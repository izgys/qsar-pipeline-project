{
 "cells": [
  {
   "cell_type": "code",
   "execution_count": 3,
   "id": "1fbd375e",
   "metadata": {},
   "outputs": [],
   "source": [
    "### What is QSAR and how could it be used to predict drug activity?\n",
    "\n",
    "#Quantitative Structure-Activity Relationship (QSAR) models, are regression and classification models that focus on the biologically relevant activity related to pyhical/chemistry variables.\n",
    "#A set of molecular descriptors are chosen, compared and validated to a given final biollogical activity. The steps of a QSAR model involves the following:\n",
    "#1. Selection of data set and extraction of structural/empirical descriptors.\n",
    "#2. Variable selection\n",
    "#3. Model Construction (Regression or Classification)\n",
    "#4. Validation Evaluation"
   ]
  },
  {
   "cell_type": "code",
   "execution_count": 4,
   "id": "dfdb518e",
   "metadata": {},
   "outputs": [
    {
     "data": {
      "text/plain": [
       "3"
      ]
     },
     "execution_count": 4,
     "metadata": {},
     "output_type": "execute_result"
    }
   ],
   "source": [
    "from rdkit import Chem\n",
    "mol = Chem.MolFromSmiles('CCO')\n",
    "mol.GetNumAtoms()\n"
   ]
  },
  {
   "cell_type": "code",
   "execution_count": 5,
   "id": "4ed6f2ba",
   "metadata": {},
   "outputs": [],
   "source": [
    "### What is RDKit?\n",
    "\n",
    "#RDKit is an open-source toolkit used in cheminformatics. It provides tools to manipulate, analyze and visualize chemical properties, which is usefull for purposes such as drug discovery, materials science and machine learning among others."
   ]
  },
  {
   "cell_type": "code",
   "execution_count": null,
   "id": "e2c35f10",
   "metadata": {},
   "outputs": [],
   "source": []
  }
 ],
 "metadata": {
  "kernelspec": {
   "display_name": "Python 3 (ipykernel)",
   "language": "python",
   "name": "python3"
  },
  "language_info": {
   "codemirror_mode": {
    "name": "ipython",
    "version": 3
   },
   "file_extension": ".py",
   "mimetype": "text/x-python",
   "name": "python",
   "nbconvert_exporter": "python",
   "pygments_lexer": "ipython3",
   "version": "3.7.16"
  }
 },
 "nbformat": 4,
 "nbformat_minor": 5
}
