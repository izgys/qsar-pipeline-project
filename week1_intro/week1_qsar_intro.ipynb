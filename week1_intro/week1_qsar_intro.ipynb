{
 "cells": [
  {
   "cell_type": "code",
   "execution_count": 3,
   "id": "1fbd375e",
   "metadata": {},
   "outputs": [],
   "source": [
    "### What is QSAR and how could it be used to predict drug activity?\n",
    "\n",
    "#Quantitative Structure-Activity Relationship (QSAR) models, are regression and classification models that focus on the biologically relevant activity related to pyhical/chemistry variables.\n",
    "#A set of molecular descriptors are chosen, compared and validated to a given final biollogical activity. The steps of a QSAR model involves the following:\n",
    "#1. Selection of data set and extraction of structural/empirical descriptors.\n",
    "#2. Variable selection\n",
    "#3. Model Construction (Regression or Classification)\n",
    "#4. Validation Evaluation"
   ]
  },
  {
   "cell_type": "code",
   "execution_count": 4,
   "id": "dfdb518e",
   "metadata": {},
   "outputs": [
    {
     "data": {
      "text/plain": [
       "3"
      ]
     },
     "execution_count": 4,
     "metadata": {},
     "output_type": "execute_result"
    }
   ],
   "source": [
    "from rdkit import Chem\n",
    "mol = Chem.MolFromSmiles('CCO')\n",
    "mol.GetNumAtoms()\n"
   ]
  },
  {
   "cell_type": "code",
   "execution_count": 5,
   "id": "4ed6f2ba",
   "metadata": {},
   "outputs": [],
   "source": [
    "### What is RDKit?\n",
    "\n",
    "#RDKit is an open-source toolkit used in cheminformatics. It provides tools to manipulate, analyze and visualize chemical properties, which is usefull for purposes such as drug discovery, materials science and machine learning among others."
   ]
  },
  {
   "cell_type": "code",
   "execution_count": 1,
   "id": "e2c35f10",
   "metadata": {},
   "outputs": [
    {
     "ename": "SyntaxError",
     "evalue": "invalid syntax (2121444096.py, line 1)",
     "output_type": "error",
     "traceback": [
      "\u001b[1;36m  File \u001b[1;32m\"C:\\Users\\User\\AppData\\Local\\Temp\\ipykernel_22184\\2121444096.py\"\u001b[1;36m, line \u001b[1;32m1\u001b[0m\n\u001b[1;33m    CORRECTIONS:\u001b[0m\n\u001b[1;37m                ^\u001b[0m\n\u001b[1;31mSyntaxError\u001b[0m\u001b[1;31m:\u001b[0m invalid syntax\n"
     ]
    }
   ],
   "source": [
    "#CORRECTIONS:\n",
    "\n",
    "🔥 Week 1: COMPLETE! 🔥\n",
    "You nailed it. Here's a quick review:\n",
    "\n",
    "✅ GitHub Confirmation\n",
    "Screenshot confirms your push to GitHub was successful ✅\n",
    "\n",
    "The new branch main -> main shows you pushed your initial commit correctly.\n",
    "\n",
    "✅ QSAR Summary – Feedback\n",
    "You show strong understanding. Just a few clarifications & enhancements to tighten your answer:\n",
    "\n",
    "Your version (edited):\n",
    "Quantitative Structure-Activity Relationship (QSAR) models are regression or classification models used to predict biological activity based on physical and chemical properties of molecules.\n",
    "QSAR involves selecting molecular descriptors (quantitative features), analyzing their correlation with a known biological activity, and training predictive models.\n",
    "The key steps are:\n",
    "\n",
    "Dataset selection and descriptor extraction\n",
    "\n",
    "Feature selection\n",
    "\n",
    "Model construction (regression or classification)\n",
    "\n",
    "Validation and evaluation\n",
    "\n",
    "💡 Well done — your steps and structure are solid.\n",
    "\n",
    "✅ Concept Check – Feedback\n",
    "1. What is a descriptor?\n",
    "\n",
    "✅ Your answer is good: a descriptor is a numerical value representing a molecular property (e.g., molecular weight, LogP, number of hydrogen bond donors, etc.)\n",
    "\n",
    "2. What is a fingerprint?\n",
    "\n",
    "⚠️ Your answer is in the right direction, but needs to be clearer:\n",
    "\n",
    "A fingerprint is a bit vector or binary array encoding the presence/absence of specific substructures or features in a molecule.\n",
    "\n",
    "Unlike descriptors, which are often numeric values, fingerprints are like molecular \"barcodes\" used for similarity comparison or ML input.\n",
    "\n",
    "📘 Example: A 1024-bit fingerprint where bit 103 = 1 might mean the molecule has a benzene ring.\n",
    "\n",
    "3. What does a QSAR model predict?\n",
    "\n",
    "✅ Correct: It predicts a quantitative or qualitative biological property, such as activity, toxicity, or binding affinity, based on structural features."
   ]
  },
  {
   "cell_type": "code",
   "execution_count": null,
   "id": "0be03bb3",
   "metadata": {},
   "outputs": [],
   "source": []
  }
 ],
 "metadata": {
  "kernelspec": {
   "display_name": "Python 3 (ipykernel)",
   "language": "python",
   "name": "python3"
  },
  "language_info": {
   "codemirror_mode": {
    "name": "ipython",
    "version": 3
   },
   "file_extension": ".py",
   "mimetype": "text/x-python",
   "name": "python",
   "nbconvert_exporter": "python",
   "pygments_lexer": "ipython3",
   "version": "3.7.16"
  }
 },
 "nbformat": 4,
 "nbformat_minor": 5
}
