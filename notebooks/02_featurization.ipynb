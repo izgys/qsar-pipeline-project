{
 "cells": [
  {
   "cell_type": "markdown",
   "id": "e7101e5f",
   "metadata": {},
   "source": [
    "# 02 - Molecular Featurization with RDKit\n",
    "\n",
    "In this step, we convert each molecule into a machine-readable numerical format using RDKit. We'll generate:\n",
    "- 2D physicochemical descriptors\n",
    "- Morgan fingerprints (ECFP)\n",
    "\n",
    "These features will later be used to train machine learning models to predict pIC50 values.\n"
   ]
  },
  {
   "cell_type": "markdown",
   "id": "881e99f5",
   "metadata": {},
   "source": [
    "## Step 1: Load Cleaned Data with SMILES\n",
    "\n",
    "In the previous step, we already fetched the SMILES strings from ChEMBL. Now, we'll load the CSV file containing:\n",
    "\n",
    "- molecule_chembl_id\n",
    "- canonical_smiles\n",
    "- pIC50\n",
    "\n",
    "From here, we begin featurization directly using RDKit."
   ]
  },
  {
   "cell_type": "code",
   "execution_count": 3,
   "id": "1394f19c",
   "metadata": {},
   "outputs": [
    {
     "data": {
      "text/html": [
       "<div>\n",
       "<style scoped>\n",
       "    .dataframe tbody tr th:only-of-type {\n",
       "        vertical-align: middle;\n",
       "    }\n",
       "\n",
       "    .dataframe tbody tr th {\n",
       "        vertical-align: top;\n",
       "    }\n",
       "\n",
       "    .dataframe thead th {\n",
       "        text-align: right;\n",
       "    }\n",
       "</style>\n",
       "<table border=\"1\" class=\"dataframe\">\n",
       "  <thead>\n",
       "    <tr style=\"text-align: right;\">\n",
       "      <th></th>\n",
       "      <th>molecule_chembl_id</th>\n",
       "      <th>canonical_smiles</th>\n",
       "      <th>IC50</th>\n",
       "      <th>units</th>\n",
       "      <th>pIC50</th>\n",
       "    </tr>\n",
       "  </thead>\n",
       "  <tbody>\n",
       "    <tr>\n",
       "      <th>0</th>\n",
       "      <td>CHEMBL68920</td>\n",
       "      <td>Cc1cc(C)c(/C=C2\\C(=O)Nc3ncnc(Nc4ccc(F)c(Cl)c4)...</td>\n",
       "      <td>41.0</td>\n",
       "      <td>nM</td>\n",
       "      <td>7.387</td>\n",
       "    </tr>\n",
       "    <tr>\n",
       "      <th>1</th>\n",
       "      <td>CHEMBL68920</td>\n",
       "      <td>Cc1cc(C)c(/C=C2\\C(=O)Nc3ncnc(Nc4ccc(F)c(Cl)c4)...</td>\n",
       "      <td>300.0</td>\n",
       "      <td>nM</td>\n",
       "      <td>6.523</td>\n",
       "    </tr>\n",
       "    <tr>\n",
       "      <th>2</th>\n",
       "      <td>CHEMBL68920</td>\n",
       "      <td>Cc1cc(C)c(/C=C2\\C(=O)Nc3ncnc(Nc4ccc(F)c(Cl)c4)...</td>\n",
       "      <td>7820.0</td>\n",
       "      <td>nM</td>\n",
       "      <td>5.107</td>\n",
       "    </tr>\n",
       "    <tr>\n",
       "      <th>3</th>\n",
       "      <td>CHEMBL69960</td>\n",
       "      <td>Cc1cc(C(=O)N2CCOCC2)[nH]c1/C=C1\\C(=O)Nc2ncnc(N...</td>\n",
       "      <td>170.0</td>\n",
       "      <td>nM</td>\n",
       "      <td>6.770</td>\n",
       "    </tr>\n",
       "    <tr>\n",
       "      <th>4</th>\n",
       "      <td>CHEMBL69960</td>\n",
       "      <td>Cc1cc(C(=O)N2CCOCC2)[nH]c1/C=C1\\C(=O)Nc2ncnc(N...</td>\n",
       "      <td>40.0</td>\n",
       "      <td>nM</td>\n",
       "      <td>7.398</td>\n",
       "    </tr>\n",
       "  </tbody>\n",
       "</table>\n",
       "</div>"
      ],
      "text/plain": [
       "  molecule_chembl_id                                   canonical_smiles  \\\n",
       "0        CHEMBL68920  Cc1cc(C)c(/C=C2\\C(=O)Nc3ncnc(Nc4ccc(F)c(Cl)c4)...   \n",
       "1        CHEMBL68920  Cc1cc(C)c(/C=C2\\C(=O)Nc3ncnc(Nc4ccc(F)c(Cl)c4)...   \n",
       "2        CHEMBL68920  Cc1cc(C)c(/C=C2\\C(=O)Nc3ncnc(Nc4ccc(F)c(Cl)c4)...   \n",
       "3        CHEMBL69960  Cc1cc(C(=O)N2CCOCC2)[nH]c1/C=C1\\C(=O)Nc2ncnc(N...   \n",
       "4        CHEMBL69960  Cc1cc(C(=O)N2CCOCC2)[nH]c1/C=C1\\C(=O)Nc2ncnc(N...   \n",
       "\n",
       "     IC50 units  pIC50  \n",
       "0    41.0    nM  7.387  \n",
       "1   300.0    nM  6.523  \n",
       "2  7820.0    nM  5.107  \n",
       "3   170.0    nM  6.770  \n",
       "4    40.0    nM  7.398  "
      ]
     },
     "execution_count": 3,
     "metadata": {},
     "output_type": "execute_result"
    }
   ],
   "source": [
    "import pandas as pd\n",
    "\n",
    "df = pd.read_csv(\"../data/chembl_egfr_clean.csv\")\n",
    "df.head()\n"
   ]
  },
  {
   "cell_type": "markdown",
   "id": "c862fb41",
   "metadata": {},
   "source": [
    "## Step 2: Convert SMILES to RDKit Objects"
   ]
  },
  {
   "cell_type": "code",
   "execution_count": 5,
   "id": "733882fa",
   "metadata": {},
   "outputs": [],
   "source": [
    "from rdkit import Chem\n",
    "\n",
    "df[\"mol\"] = df[\"canonical_smiles\"].apply(Chem.MolFromSmiles) # Convert SMILES to RDKit Mol objects\n",
    "df = df[df[\"mol\"].notnull()]  # Remove rows with invalid SMILES"
   ]
  },
  {
   "cell_type": "markdown",
   "id": "e43ad907",
   "metadata": {},
   "source": [
    "## Step 3: Generate Descriptors\n",
    "\n",
    "Example: molecular weight, logP, number of H-bond donors."
   ]
  },
  {
   "cell_type": "markdown",
   "id": "122e17ee",
   "metadata": {},
   "source": []
  },
  {
   "cell_type": "code",
   "execution_count": 7,
   "id": "b8085b54",
   "metadata": {},
   "outputs": [],
   "source": [
    "from rdkit.Chem import Descriptors\n",
    "\n",
    "df[\"MolWt\"] = df[\"mol\"].apply(Descriptors.MolWt)  # Molecular weight\n",
    "df[\"LogP\"] = df[\"mol\"].apply(Descriptors.MolLogP) # LogP (octanol-water partition coefficient)\n",
    "df[\"NumHDonors\"] = df[\"mol\"].apply(Descriptors.NumHDonors)  # Number of hydrogen bond donors\n",
    "df[\"NumHAcceptors\"] = df[\"mol\"].apply(Descriptors.NumHAcceptors)  # Number of hydrogen bond acceptors"
   ]
  },
  {
   "cell_type": "markdown",
   "id": "e367aa34",
   "metadata": {},
   "source": [
    "## Step 4: Generate Morgan Fingerprints (ECFP4)\n",
    "\n",
    "These are known as Extended-Connectivity Fingerprints, or ECFP. A way to numerically represent a molecule’s structure based on its substructures.\n",
    "\n",
    "They capture circular patterns around each atom, similar to how a human might notice functional groups or atomic environments.\n",
    "\n",
    "- The “4” in ECFP4 refers to a diameter of 4 bonds, or a radius of 2.\n",
    "- This means the fingerprint captures information up to 2 bonds away from each atom.\n",
    "\n",
    "**How it works:**\n",
    "\n",
    "1. Start at each atom in the molecule.\n",
    "2. Iteratively collect information about neighboring atoms within a certain radius (e.g., radius = 2).\n",
    "3. Hash each unique substructure into a fixed-length binary vector (e.g., 2048 bits).\n",
    "4. The final vector tells you which substructures are present in the molecule.\n",
    "5. Each bit corresponds to a different feature or substructure."
   ]
  },
  {
   "cell_type": "markdown",
   "id": "aaf511b7",
   "metadata": {},
   "source": []
  },
  {
   "cell_type": "code",
   "execution_count": 8,
   "id": "eb2dcd65",
   "metadata": {},
   "outputs": [],
   "source": [
    "from rdkit.Chem import AllChem\n",
    "import numpy as np\n",
    "\n",
    "def mol_to_fp(mol, radius=2, nBits=2048):\n",
    "    fp = AllChem.GetMorganFingerprintAsBitVect(mol, radius, nBits=nBits)\n",
    "    arr = np.zeros((nBits,), dtype=int)\n",
    "    AllChem.DataStructs.ConvertToNumpyArray(fp, arr)\n",
    "    return arr\n",
    "\n",
    "# Convert to a matrix\n",
    "fp_array = np.array([mol_to_fp(m) for m in df[\"mol\"]])\n"
   ]
  },
  {
   "cell_type": "markdown",
   "id": "2f48cba6",
   "metadata": {},
   "source": [
    "## Step 5: Save Festures for Modeling"
   ]
  },
  {
   "cell_type": "code",
   "execution_count": 11,
   "id": "ff95c1ab",
   "metadata": {},
   "outputs": [],
   "source": [
    "# Save descriptors\n",
    "desc_cols = [\"MolWt\", \"LogP\", \"NumHDonors\", \"NumHAcceptors\", \"pIC50\"]\n",
    "df[desc_cols].to_csv(\"../data/descriptors.csv\", index=False)\n",
    "\n",
    "# Save fingerprints as NumPy array and labels separately\n",
    "np.save(\"../data/fingerprints.npy\", fp_array)\n",
    "df[\"pIC50\"].to_csv(\"../data/labels.csv\", index=False)\n"
   ]
  }
 ],
 "metadata": {
  "kernelspec": {
   "display_name": "qsar-env",
   "language": "python",
   "name": "python3"
  },
  "language_info": {
   "codemirror_mode": {
    "name": "ipython",
    "version": 3
   },
   "file_extension": ".py",
   "mimetype": "text/x-python",
   "name": "python",
   "nbconvert_exporter": "python",
   "pygments_lexer": "ipython3",
   "version": "3.7.16"
  }
 },
 "nbformat": 4,
 "nbformat_minor": 5
}
